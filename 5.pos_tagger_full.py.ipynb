{
 "cells": [
  {
   "cell_type": "code",
   "execution_count": null,
   "metadata": {},
   "outputs": [],
   "source": [
    "import nltk\n",
    "from nltk.corpus import state_union\n",
    "from nltk.tokenize import PunktSentenceTokenizer\n",
    "\n",
    "f = open(\"training_text.txt\",\"rb\")\n",
    "\n",
    "training_text_set = f.read()\n",
    "\n",
    "s = open(\"sample.txt\",\"rb\")\n",
    "\n",
    "sample_set = s.read()\n",
    "\n",
    "my_tokenizer = PunktSentenceTokenizer(training_text_set)\n",
    "\n",
    "my_tokens = my_tokenizer.tokenize(sample_set)\n",
    "\n",
    "try:\n",
    "    for i in my_tokens[:5]:\n",
    "        words = nltk.word_tokenize(i)\n",
    "        tagged = nltk.pos_tag(words)\n",
    "        print(tagged)\n",
    "\n",
    "except Exception as e:\n",
    "    print(str(e))\n",
    "\n"
   ]
  }
 ],
 "metadata": {
  "kernelspec": {
   "display_name": "Python 3",
   "language": "python",
   "name": "python3"
  },
  "language_info": {
   "codemirror_mode": {
    "name": "ipython",
    "version": 3
   },
   "file_extension": ".py",
   "mimetype": "text/x-python",
   "name": "python",
   "nbconvert_exporter": "python",
   "pygments_lexer": "ipython3",
   "version": "3.6.3"
  }
 },
 "nbformat": 4,
 "nbformat_minor": 2
}
